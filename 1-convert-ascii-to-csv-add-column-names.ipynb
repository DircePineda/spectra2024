{
 "cells": [
  {
   "cell_type": "code",
   "execution_count": 1,
   "id": "8ea4e20e",
   "metadata": {
    "execution": {
     "iopub.execute_input": "2024-03-01T10:44:32.885280Z",
     "iopub.status.busy": "2024-03-01T10:44:32.884841Z",
     "iopub.status.idle": "2024-03-01T10:44:33.147214Z",
     "shell.execute_reply": "2024-03-01T10:44:33.145367Z"
    },
    "papermill": {
     "duration": 0.270319,
     "end_time": "2024-03-01T10:44:33.150031",
     "exception": false,
     "start_time": "2024-03-01T10:44:32.879712",
     "status": "completed"
    },
    "tags": []
   },
   "outputs": [
    {
     "name": "stdout",
     "output_type": "stream",
     "text": [
      "Combined CSV file saved to: <_io.TextIOWrapper name='/kaggle/working/combined_yeast.csv' mode='w' encoding='UTF-8'>\n"
     ]
    }
   ],
   "source": [
    "import os\n",
    "import csv\n",
    "\n",
    "def convert_ascii_to_csv(input_folder, output_folder):\n",
    "    # Check if output folder exists, if not create it\n",
    "    if not os.path.exists(output_folder):\n",
    "        os.makedirs(output_folder)\n",
    "\n",
    "    # Loop through each file in input folder\n",
    "    for filename in os.listdir(input_folder):\n",
    "        if filename.endswith(\".asc\"):\n",
    "            input_file_path = os.path.join(input_folder, filename)\n",
    "            output_file_path = os.path.join(output_folder, filename.replace(\".asc\", \".csv\"))\n",
    "            \n",
    "            # Open input ASCII file for reading\n",
    "            with open(input_file_path, 'r') as input_file:\n",
    "                # Open output CSV file for writing\n",
    "                with open(output_file_path, 'w', newline='') as output_file:\n",
    "                    csv_writer = csv.writer(output_file)\n",
    "                    \n",
    "                    # Write column names to CSV file\n",
    "                    csv_writer.writerow([\"Wavelength\", \"Intensity\"])\n",
    "                    \n",
    "                    # Read each line from input file & write to output file in CSV format\n",
    "                    for line in input_file:\n",
    "                        # Process each line to extract data\n",
    "                        data = line.strip().split()\n",
    "                        \n",
    "                        # Write data to CSV file\n",
    "                        csv_writer.writerow(data)\n",
    "\n",
    "def combine_csv_files(input_folder, output_file):\n",
    "    # List to store data\n",
    "    csv_data = []\n",
    "\n",
    "    # Loop through each file in input folder\n",
    "    for filename in os.listdir(input_folder):\n",
    "        if filename.endswith(\".csv\"):\n",
    "            input_file_path = os.path.join(input_folder, filename)\n",
    "            \n",
    "            # Open input CSV file for reading\n",
    "            with open(input_file_path, 'r') as input_file:\n",
    "                csv_reader = csv.reader(input_file)\n",
    "                \n",
    "                # Read each row from CSV file & append to list\n",
    "                csv_data.extend(list(csv_reader))\n",
    "\n",
    "    # Write combined data to a single CSV file\n",
    "    with open(output_file, 'w', newline='') as output_file:\n",
    "        csv_writer = csv.writer(output_file)\n",
    "        csv_writer.writerows(csv_data)\n",
    "    return output_file\n",
    "\n",
    "# Applying\n",
    "input_folder = \"/kaggle/input/asci-yeast\"\n",
    "output_folder = \"/kaggle/working/csv_files\"\n",
    "output_file = \"/kaggle/working/combined_yeast.csv\"\n",
    "\n",
    "# Convert ASCII files to CSV files\n",
    "convert_ascii_to_csv(input_folder, output_folder)\n",
    "\n",
    "# Combine CSV files into a single CSV file & save\n",
    "combined_csv_file = combine_csv_files(output_folder, output_file)\n",
    "print(\"Combined CSV file saved to:\", combined_csv_file)"
   ]
  }
 ],
 "metadata": {
  "kaggle": {
   "accelerator": "none",
   "dataSources": [
    {
     "datasetId": 4520861,
     "sourceId": 7735782,
     "sourceType": "datasetVersion"
    }
   ],
   "dockerImageVersionId": 30646,
   "isGpuEnabled": false,
   "isInternetEnabled": true,
   "language": "python",
   "sourceType": "notebook"
  },
  "kernelspec": {
   "display_name": "Python 3",
   "language": "python",
   "name": "python3"
  },
  "language_info": {
   "codemirror_mode": {
    "name": "ipython",
    "version": 3
   },
   "file_extension": ".py",
   "mimetype": "text/x-python",
   "name": "python",
   "nbconvert_exporter": "python",
   "pygments_lexer": "ipython3",
   "version": "3.10.13"
  },
  "papermill": {
   "default_parameters": {},
   "duration": 4.157172,
   "end_time": "2024-03-01T10:44:33.675366",
   "environment_variables": {},
   "exception": null,
   "input_path": "__notebook__.ipynb",
   "output_path": "__notebook__.ipynb",
   "parameters": {},
   "start_time": "2024-03-01T10:44:29.518194",
   "version": "2.5.0"
  }
 },
 "nbformat": 4,
 "nbformat_minor": 5
}
